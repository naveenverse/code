{
 "cells": [
  {
   "cell_type": "code",
   "execution_count": 1,
   "metadata": {},
   "outputs": [],
   "source": [
    "import pandas as pd\n",
    "import numpy as np\n",
    "import scipy.stats as st"
   ]
  },
  {
   "cell_type": "markdown",
   "metadata": {},
   "source": [
    "1. A F&B manager wants to determine whether there is any significant difference in the diameter of the cutlet between two units. A randomly selected sample of cutlets was collected from both units and measured? Analyze the data and draw inferences at 5% significance level. Please state the assumptions and tests that you carried out to check validity of the assumptions."
   ]
  },
  {
   "cell_type": "code",
   "execution_count": 2,
   "metadata": {},
   "outputs": [
    {
     "name": "stdout",
     "output_type": "stream",
     "text": [
      "Normality assumption is met.\n",
      "Homogeneity of variance assumption is met.\n",
      "t statistic value: 0.7228688704678061\n",
      "p value: 0.47223947245995\n",
      "Fail to reject the null hypothesis. There is no significant difference in cutlet diameters.\n"
     ]
    }
   ],
   "source": [
    "## Based on the problem statement given above, we know there are two independent sample that we need to compare. \n",
    "## We use 2 sample t test to analyse the statistical significance between the two samples.\n",
    "\n",
    "unit_a = np.array(pd.read_csv('../Cutlets.csv')['Unit A'])\n",
    "unit_b = np.array(pd.read_csv('../Cutlets.csv')['Unit B'])\n",
    "\n",
    "## First we use Shapiro-Wilk test to check normality \n",
    "_ , p_value_a = st.shapiro(unit_a)\n",
    "_ , p_value_b = st.shapiro(unit_b)\n",
    "\n",
    "if p_value_a > 0.05 and p_value_b > 0.05:\n",
    "    print('Normality assumption is met.')\n",
    "else:\n",
    "    print('Normality assumption is not met.')\n",
    "\n",
    "## Second, we use Levene's test to check Homegeneity of variance\n",
    "\n",
    "_ , p_value_levene = st.levene(unit_a, unit_b)\n",
    "\n",
    "if p_value_levene > 0.05:\n",
    "    print('Homogeneity of variance assumption is met.')\n",
    "else:\n",
    "    print('Homogeneity of variance assumption is not met.')\n",
    "\n",
    "t_stat, p_value = st.ttest_ind(unit_a,unit_b)\n",
    "print(f't statistic value: {t_stat}')\n",
    "print(f'p value: {p_value}')\n",
    "if p_value > 0.05:\n",
    "    print(\"Fail to reject the null hypothesis. There is no significant difference in cutlet diameters.\")\n",
    "else:\n",
    "    print(\"Reject the null hypothesis. There is a significant difference in cutlet diameters.\")\n"
   ]
  },
  {
   "cell_type": "code",
   "execution_count": null,
   "metadata": {},
   "outputs": [],
   "source": []
  }
 ],
 "metadata": {
  "kernelspec": {
   "display_name": "vconda",
   "language": "python",
   "name": "python3"
  },
  "language_info": {
   "codemirror_mode": {
    "name": "ipython",
    "version": 3
   },
   "file_extension": ".py",
   "mimetype": "text/x-python",
   "name": "python",
   "nbconvert_exporter": "python",
   "pygments_lexer": "ipython3",
   "version": "3.7.7"
  },
  "orig_nbformat": 4
 },
 "nbformat": 4,
 "nbformat_minor": 2
}
