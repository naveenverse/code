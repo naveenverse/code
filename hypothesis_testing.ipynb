{
 "cells": [
  {
   "cell_type": "code",
   "execution_count": 1,
   "metadata": {},
   "outputs": [],
   "source": [
    "import pandas as pd\n",
    "import numpy as np\n",
    "import scipy.stats as st"
   ]
  },
  {
   "cell_type": "markdown",
   "metadata": {},
   "source": [
    "1. A F&B manager wants to determine whether there is any significant difference in the diameter of the cutlet between two units. A randomly selected sample of cutlets was collected from both units and measured? Analyze the data and draw inferences at 5% significance level. Please state the assumptions and tests that you carried out to check validity of the assumptions."
   ]
  },
  {
   "cell_type": "code",
   "execution_count": 2,
   "metadata": {},
   "outputs": [
    {
     "name": "stdout",
     "output_type": "stream",
     "text": [
      "Normality assumption is met.\n",
      "Homogeneity of variance assumption is met.\n",
      "t statistic value: 0.7228688704678061\n",
      "p value: 0.47223947245995\n",
      "Fail to reject the null hypothesis. There is no significant difference in cutlet diameters.\n"
     ]
    }
   ],
   "source": [
    "## Based on the problem statement given above, we know there are two independent sample that we need to compare. \n",
    "## We use 2 sample t test to analyse the statistical significance between the two samples.\n",
    "\n",
    "unit_a = np.array(pd.read_csv('../Cutlets.csv')['Unit A'])\n",
    "unit_b = np.array(pd.read_csv('../Cutlets.csv')['Unit B'])\n",
    "\n",
    "## First we use Shapiro-Wilk test to check normality \n",
    "_ , p_value_a = st.shapiro(unit_a)\n",
    "_ , p_value_b = st.shapiro(unit_b)\n",
    "\n",
    "if p_value_a > 0.05 and p_value_b > 0.05:\n",
    "    print('Normality assumption is met.')\n",
    "else:\n",
    "    print('Normality assumption is not met.')\n",
    "\n",
    "## Second, we use Levene's test to check Homegeneity of variance\n",
    "\n",
    "_ , p_value_levene = st.levene(unit_a, unit_b)\n",
    "\n",
    "## alpha is 0.05 \n",
    "\n",
    "if p_value_levene > 0.05:\n",
    "    print('Homogeneity of variance assumption is met.')\n",
    "else:\n",
    "    print('Homogeneity of variance assumption is not met.')\n",
    "\n",
    "t_stat, p_value = st.ttest_ind(unit_a,unit_b)\n",
    "print(f't statistic value: {t_stat}')\n",
    "print(f'p value: {p_value}')\n",
    "if p_value > 0.05:\n",
    "    print(\"Fail to reject the null hypothesis. There is no significant difference in cutlet diameters.\")\n",
    "else:\n",
    "    print(\"Reject the null hypothesis. There is a significant difference in cutlet diameters.\")\n"
   ]
  },
  {
   "cell_type": "markdown",
   "metadata": {},
   "source": [
    "2. A hospital wants to determine whether there is any difference in the average Turn Around Time (TAT) of reports of the laboratories on their preferred list. They collected a random sample and recorded TAT for reports of 4 laboratories. TAT is defined as sample collected to report dispatch.\n",
    "   Analyze the data and determine whether there is any difference in average TAT among the different laboratories at 5% significance level.\n"
   ]
  },
  {
   "cell_type": "code",
   "execution_count": 21,
   "metadata": {},
   "outputs": [
    {
     "name": "stdout",
     "output_type": "stream",
     "text": [
      "\n",
      "Normality assumption is met for all groups.\n",
      "Homogeneity of variances assumption is met.\n",
      "f statistics: 118.70421654401437\n",
      "p value: 2.1156708949992414e-57\n",
      "Reject the null hypothesis. There is a significant difference in average TAT among laboratories.\n",
      "\n",
      "\n",
      "Perform post hoc test using Tukey's\n",
      " Multiple Comparison of Means - Tukey HSD, FWER=0.05  \n",
      "======================================================\n",
      "group1 group2 meandiff p-adj   lower    upper   reject\n",
      "------------------------------------------------------\n",
      "  Lab1   Lab2   0.5413 0.9923  -4.4466   5.5293  False\n",
      "  Lab1   Lab3  21.5517    0.0  16.5637  26.5396   True\n",
      "  Lab1   Lab4 -14.6788    0.0 -19.6668  -9.6909   True\n",
      "  Lab2   Lab3  21.0103    0.0  16.0224  25.9983   True\n",
      "  Lab2   Lab4 -15.2202    0.0 -20.2081 -10.2322   True\n",
      "  Lab3   Lab4 -36.2305    0.0 -41.2185 -31.2425   True\n",
      "------------------------------------------------------\n"
     ]
    }
   ],
   "source": [
    "## From the above problem statement. We learn we have to compare 4 different samples (from 4 different laboratories)\n",
    "## The one-way ANOVA test is a parametric test that is used to compare the means of three or more groups. \n",
    "\n",
    "lab_1 = np.array(pd.read_csv('../LabTAT.csv')['Laboratory 1'])\n",
    "lab_2 = np.array(pd.read_csv('../LabTAT.csv')['Laboratory 2'])\n",
    "lab_3 = np.array(pd.read_csv('../LabTAT.csv')['Laboratory 3'])\n",
    "lab_4 = np.array(pd.read_csv('../LabTAT.csv')['Laboratory 4'])\n",
    "\n",
    "# Shapiro-Wilk Test for Normality\n",
    "_, p1 = st.shapiro(lab_1)\n",
    "_, p2 = st.shapiro(lab_2)\n",
    "_, p3 = st.shapiro(lab_3)\n",
    "_, p4 = st.shapiro(lab_4)\n",
    "\n",
    "# Levene's Test for Homogeneity of Variances\n",
    "_, p_homogeneity = st.levene(lab_1, lab_2, lab_3, lab_4)\n",
    "\n",
    "# Check the assumptions\n",
    "if all(p > 0.05 for p in [p1, p2, p3, p4]):\n",
    "    print(\"\\nNormality assumption is met for all groups.\")\n",
    "else:\n",
    "    print(\"\\nNormality assumption is violated for one or more groups.\")\n",
    "\n",
    "if p_homogeneity > 0.05:\n",
    "    print(\"Homogeneity of variances assumption is met.\")\n",
    "else:\n",
    "    print(\"Homogeneity of variances assumption is violated.\")\n",
    "\n",
    "## Performing One-Way ANOVA test \n",
    "f_statistic, p_value = st.f_oneway(lab_1, lab_2, lab_3, lab_4)\n",
    "\n",
    "print(f'f statistics: {f_statistic}')\n",
    "print(f'p value: {p_value}')\n",
    "\n",
    "# Significance level\n",
    "alpha = 0.05\n",
    "\n",
    "# Make a decision\n",
    "if p_value < alpha:\n",
    "    print(\"Reject the null hypothesis. There is a significant difference in average TAT among laboratories.\")\n",
    "else:\n",
    "    print(\"Fail to reject the null hypothesis. No significant difference in average TAT among laboratories.\")\n",
    "\n",
    "## If rejected, you can perform post hoc tests to identify specific differences.\n",
    "## The omnibus test tells us that there is a significant difference between at least two groups. \n",
    "## But it does not tell us which groups are different. Post hoc tests are used to answer this question.\n",
    "\n",
    "print('\\n')\n",
    "print(\"Perform post hoc test using Tukey's\")\n",
    "import statsmodels.api as sm\n",
    "from statsmodels.stats.multicomp import pairwise_tukeyhsd\n",
    "\n",
    "# Combine data into a single array\n",
    "data = list(lab_1) + list(lab_2) + list(lab_3) + list(lab_4)\n",
    "\n",
    "# Group labels (laboratory names)\n",
    "groups = ['Lab1'] * len(lab_1) + ['Lab2'] * len(lab_2) + ['Lab3'] * len(lab_3) + ['Lab4'] * len(lab_4)\n",
    "\n",
    "# Perform one-way ANOVA\n",
    "f_statistic, p_value = st.f_oneway(lab_1, lab_2, lab_3, lab_4)\n",
    "\n",
    "# If the ANOVA test is significant (p < alpha), perform post hoc Tukey's HSD\n",
    "if p_value < 0.05:\n",
    "    posthoc = pairwise_tukeyhsd(data, groups)\n",
    "    print(posthoc.summary())\n"
   ]
  },
  {
   "cell_type": "code",
   "execution_count": null,
   "metadata": {},
   "outputs": [],
   "source": []
  },
  {
   "cell_type": "code",
   "execution_count": null,
   "metadata": {},
   "outputs": [],
   "source": []
  },
  {
   "cell_type": "code",
   "execution_count": null,
   "metadata": {},
   "outputs": [],
   "source": []
  }
 ],
 "metadata": {
  "kernelspec": {
   "display_name": "vconda",
   "language": "python",
   "name": "python3"
  },
  "language_info": {
   "codemirror_mode": {
    "name": "ipython",
    "version": 3
   },
   "file_extension": ".py",
   "mimetype": "text/x-python",
   "name": "python",
   "nbconvert_exporter": "python",
   "pygments_lexer": "ipython3",
   "version": "3.7.7"
  },
  "orig_nbformat": 4
 },
 "nbformat": 4,
 "nbformat_minor": 2
}
