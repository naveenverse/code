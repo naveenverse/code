{
  "cells": [
    {
      "cell_type": "code",
      "execution_count": null,
      "metadata": {
        "id": "-oHyIRZeTPaa"
      },
      "outputs": [],
      "source": [
        "import ipywidgets as widgets\n",
        "import IPython.display as display\n",
        "\n",
        "style = {'description_width': 'initial'}"
      ]
    },
    {
      "cell_type": "code",
      "execution_count": null,
      "metadata": {
        "id": "9kE_NTucUMk1"
      },
      "outputs": [],
      "source": [
        "#Import essential libraries\n",
        "import pandas as pd\n",
        "import numpy as np\n",
        "import matplotlib.pyplot as plt\n",
        "import seaborn as sns\n",
        "\n",
        "%matplotlib inline "
      ]
    },
    {
      "cell_type": "code",
      "execution_count": null,
      "metadata": {
        "colab": {
          "base_uri": "https://localhost:8080/",
          "height": 423
        },
        "id": "gL4y34vlUk5a",
        "outputId": "e6f1cbc8-1b21-42dd-b1d6-77ca98ce7b2d"
      },
      "outputs": [
        {
          "data": {
            "text/html": [
              "<div>\n",
              "<style scoped>\n",
              "    .dataframe tbody tr th:only-of-type {\n",
              "        vertical-align: middle;\n",
              "    }\n",
              "\n",
              "    .dataframe tbody tr th {\n",
              "        vertical-align: top;\n",
              "    }\n",
              "\n",
              "    .dataframe thead th {\n",
              "        text-align: right;\n",
              "    }\n",
              "</style>\n",
              "<table border=\"1\" class=\"dataframe\">\n",
              "  <thead>\n",
              "    <tr style=\"text-align: right;\">\n",
              "      <th></th>\n",
              "      <th>sepal length</th>\n",
              "      <th>sepal width</th>\n",
              "      <th>petal length</th>\n",
              "      <th>petal width</th>\n",
              "      <th>Species</th>\n",
              "    </tr>\n",
              "  </thead>\n",
              "  <tbody>\n",
              "    <tr>\n",
              "      <th>0</th>\n",
              "      <td>5.1</td>\n",
              "      <td>3.5</td>\n",
              "      <td>1.4</td>\n",
              "      <td>0.2</td>\n",
              "      <td>Iris-setosa</td>\n",
              "    </tr>\n",
              "    <tr>\n",
              "      <th>1</th>\n",
              "      <td>4.9</td>\n",
              "      <td>3.0</td>\n",
              "      <td>1.4</td>\n",
              "      <td>0.2</td>\n",
              "      <td>Iris-setosa</td>\n",
              "    </tr>\n",
              "    <tr>\n",
              "      <th>2</th>\n",
              "      <td>4.7</td>\n",
              "      <td>3.2</td>\n",
              "      <td>1.3</td>\n",
              "      <td>0.2</td>\n",
              "      <td>Iris-setosa</td>\n",
              "    </tr>\n",
              "    <tr>\n",
              "      <th>3</th>\n",
              "      <td>4.6</td>\n",
              "      <td>3.1</td>\n",
              "      <td>1.5</td>\n",
              "      <td>0.2</td>\n",
              "      <td>Iris-setosa</td>\n",
              "    </tr>\n",
              "    <tr>\n",
              "      <th>4</th>\n",
              "      <td>5.0</td>\n",
              "      <td>3.6</td>\n",
              "      <td>1.4</td>\n",
              "      <td>0.2</td>\n",
              "      <td>Iris-setosa</td>\n",
              "    </tr>\n",
              "    <tr>\n",
              "      <th>...</th>\n",
              "      <td>...</td>\n",
              "      <td>...</td>\n",
              "      <td>...</td>\n",
              "      <td>...</td>\n",
              "      <td>...</td>\n",
              "    </tr>\n",
              "    <tr>\n",
              "      <th>145</th>\n",
              "      <td>6.7</td>\n",
              "      <td>3.0</td>\n",
              "      <td>5.2</td>\n",
              "      <td>2.3</td>\n",
              "      <td>Iris-virginica</td>\n",
              "    </tr>\n",
              "    <tr>\n",
              "      <th>146</th>\n",
              "      <td>6.3</td>\n",
              "      <td>2.5</td>\n",
              "      <td>5.0</td>\n",
              "      <td>1.9</td>\n",
              "      <td>Iris-virginica</td>\n",
              "    </tr>\n",
              "    <tr>\n",
              "      <th>147</th>\n",
              "      <td>6.5</td>\n",
              "      <td>3.0</td>\n",
              "      <td>5.2</td>\n",
              "      <td>2.0</td>\n",
              "      <td>Iris-virginica</td>\n",
              "    </tr>\n",
              "    <tr>\n",
              "      <th>148</th>\n",
              "      <td>6.2</td>\n",
              "      <td>3.4</td>\n",
              "      <td>5.4</td>\n",
              "      <td>2.3</td>\n",
              "      <td>Iris-virginica</td>\n",
              "    </tr>\n",
              "    <tr>\n",
              "      <th>149</th>\n",
              "      <td>5.9</td>\n",
              "      <td>3.0</td>\n",
              "      <td>5.1</td>\n",
              "      <td>1.8</td>\n",
              "      <td>Iris-virginica</td>\n",
              "    </tr>\n",
              "  </tbody>\n",
              "</table>\n",
              "<p>150 rows × 5 columns</p>\n",
              "</div>"
            ],
            "text/plain": [
              "     sepal length  sepal width  petal length  petal width         Species\n",
              "0             5.1          3.5           1.4          0.2     Iris-setosa\n",
              "1             4.9          3.0           1.4          0.2     Iris-setosa\n",
              "2             4.7          3.2           1.3          0.2     Iris-setosa\n",
              "3             4.6          3.1           1.5          0.2     Iris-setosa\n",
              "4             5.0          3.6           1.4          0.2     Iris-setosa\n",
              "..            ...          ...           ...          ...             ...\n",
              "145           6.7          3.0           5.2          2.3  Iris-virginica\n",
              "146           6.3          2.5           5.0          1.9  Iris-virginica\n",
              "147           6.5          3.0           5.2          2.0  Iris-virginica\n",
              "148           6.2          3.4           5.4          2.3  Iris-virginica\n",
              "149           5.9          3.0           5.1          1.8  Iris-virginica\n",
              "\n",
              "[150 rows x 5 columns]"
            ]
          },
          "execution_count": 3,
          "metadata": {},
          "output_type": "execute_result"
        }
      ],
      "source": [
        "file_path = '/content/iris.data'\n",
        "\n",
        "df = pd.read_csv(file_path, names=['sepal length', 'sepal width',\n",
        "                                   'petal length', 'petal width',\n",
        "                                   'Species'])\n",
        "df"
      ]
    },
    {
      "cell_type": "code",
      "execution_count": null,
      "metadata": {
        "colab": {
          "base_uri": "https://localhost:8080/"
        },
        "id": "6jZ45hw1rMAa",
        "outputId": "fd553efd-f312-478b-82ae-ff1cf14e8592"
      },
      "outputs": [
        {
          "name": "stdout",
          "output_type": "stream",
          "text": [
            "The dataset has 150 rows and 5 columns\n",
            "*******************************\n",
            "The classes in this dataset: ['Iris-setosa' 'Iris-versicolor' 'Iris-virginica']\n"
          ]
        }
      ],
      "source": [
        "print(\"The dataset has {} rows and {} columns\".format(df.shape[0],df.shape[1]))\n",
        "print(\"*******************************\")\n",
        "print(\"The classes in this dataset: {}\".format(df.Species.unique()))"
      ]
    },
    {
      "cell_type": "code",
      "execution_count": null,
      "metadata": {
        "colab": {
          "base_uri": "https://localhost:8080/",
          "height": 423
        },
        "id": "zw4NkJO01Rnw",
        "outputId": "6fdb5dd8-b430-4d74-ba50-4b3cdfec928f"
      },
      "outputs": [
        {
          "data": {
            "text/html": [
              "<div>\n",
              "<style scoped>\n",
              "    .dataframe tbody tr th:only-of-type {\n",
              "        vertical-align: middle;\n",
              "    }\n",
              "\n",
              "    .dataframe tbody tr th {\n",
              "        vertical-align: top;\n",
              "    }\n",
              "\n",
              "    .dataframe thead th {\n",
              "        text-align: right;\n",
              "    }\n",
              "</style>\n",
              "<table border=\"1\" class=\"dataframe\">\n",
              "  <thead>\n",
              "    <tr style=\"text-align: right;\">\n",
              "      <th></th>\n",
              "      <th>sepal length</th>\n",
              "      <th>sepal width</th>\n",
              "      <th>petal length</th>\n",
              "      <th>petal width</th>\n",
              "      <th>Species</th>\n",
              "    </tr>\n",
              "  </thead>\n",
              "  <tbody>\n",
              "    <tr>\n",
              "      <th>50</th>\n",
              "      <td>7.0</td>\n",
              "      <td>3.2</td>\n",
              "      <td>4.7</td>\n",
              "      <td>1.4</td>\n",
              "      <td>Iris-versicolor</td>\n",
              "    </tr>\n",
              "    <tr>\n",
              "      <th>51</th>\n",
              "      <td>6.4</td>\n",
              "      <td>3.2</td>\n",
              "      <td>4.5</td>\n",
              "      <td>1.5</td>\n",
              "      <td>Iris-versicolor</td>\n",
              "    </tr>\n",
              "    <tr>\n",
              "      <th>52</th>\n",
              "      <td>6.9</td>\n",
              "      <td>3.1</td>\n",
              "      <td>4.9</td>\n",
              "      <td>1.5</td>\n",
              "      <td>Iris-versicolor</td>\n",
              "    </tr>\n",
              "    <tr>\n",
              "      <th>53</th>\n",
              "      <td>5.5</td>\n",
              "      <td>2.3</td>\n",
              "      <td>4.0</td>\n",
              "      <td>1.3</td>\n",
              "      <td>Iris-versicolor</td>\n",
              "    </tr>\n",
              "    <tr>\n",
              "      <th>54</th>\n",
              "      <td>6.5</td>\n",
              "      <td>2.8</td>\n",
              "      <td>4.6</td>\n",
              "      <td>1.5</td>\n",
              "      <td>Iris-versicolor</td>\n",
              "    </tr>\n",
              "    <tr>\n",
              "      <th>...</th>\n",
              "      <td>...</td>\n",
              "      <td>...</td>\n",
              "      <td>...</td>\n",
              "      <td>...</td>\n",
              "      <td>...</td>\n",
              "    </tr>\n",
              "    <tr>\n",
              "      <th>145</th>\n",
              "      <td>6.7</td>\n",
              "      <td>3.0</td>\n",
              "      <td>5.2</td>\n",
              "      <td>2.3</td>\n",
              "      <td>Iris-virginica</td>\n",
              "    </tr>\n",
              "    <tr>\n",
              "      <th>146</th>\n",
              "      <td>6.3</td>\n",
              "      <td>2.5</td>\n",
              "      <td>5.0</td>\n",
              "      <td>1.9</td>\n",
              "      <td>Iris-virginica</td>\n",
              "    </tr>\n",
              "    <tr>\n",
              "      <th>147</th>\n",
              "      <td>6.5</td>\n",
              "      <td>3.0</td>\n",
              "      <td>5.2</td>\n",
              "      <td>2.0</td>\n",
              "      <td>Iris-virginica</td>\n",
              "    </tr>\n",
              "    <tr>\n",
              "      <th>148</th>\n",
              "      <td>6.2</td>\n",
              "      <td>3.4</td>\n",
              "      <td>5.4</td>\n",
              "      <td>2.3</td>\n",
              "      <td>Iris-virginica</td>\n",
              "    </tr>\n",
              "    <tr>\n",
              "      <th>149</th>\n",
              "      <td>5.9</td>\n",
              "      <td>3.0</td>\n",
              "      <td>5.1</td>\n",
              "      <td>1.8</td>\n",
              "      <td>Iris-virginica</td>\n",
              "    </tr>\n",
              "  </tbody>\n",
              "</table>\n",
              "<p>100 rows × 5 columns</p>\n",
              "</div>"
            ],
            "text/plain": [
              "     sepal length  sepal width  petal length  petal width          Species\n",
              "50            7.0          3.2           4.7          1.4  Iris-versicolor\n",
              "51            6.4          3.2           4.5          1.5  Iris-versicolor\n",
              "52            6.9          3.1           4.9          1.5  Iris-versicolor\n",
              "53            5.5          2.3           4.0          1.3  Iris-versicolor\n",
              "54            6.5          2.8           4.6          1.5  Iris-versicolor\n",
              "..            ...          ...           ...          ...              ...\n",
              "145           6.7          3.0           5.2          2.3   Iris-virginica\n",
              "146           6.3          2.5           5.0          1.9   Iris-virginica\n",
              "147           6.5          3.0           5.2          2.0   Iris-virginica\n",
              "148           6.2          3.4           5.4          2.3   Iris-virginica\n",
              "149           5.9          3.0           5.1          1.8   Iris-virginica\n",
              "\n",
              "[100 rows x 5 columns]"
            ]
          },
          "execution_count": 5,
          "metadata": {},
          "output_type": "execute_result"
        }
      ],
      "source": [
        "#Since it is a binary classification problem we will remove one of the classes from the datasets\n",
        "index_names = df[df['Species']== 'Iris-setosa'].index\n",
        "df.drop(index_names, inplace=True)\n",
        "target = df['Species']\n",
        "\n",
        "df"
      ]
    },
    {
      "cell_type": "code",
      "execution_count": null,
      "metadata": {
        "colab": {
          "base_uri": "https://localhost:8080/"
        },
        "id": "k8DT52zXXZbS",
        "outputId": "46173d35-4f2c-4549-bad0-5179a78ce4e9"
      },
      "outputs": [
        {
          "name": "stdout",
          "output_type": "stream",
          "text": [
            "The classes in this dataset: ['Iris-versicolor' 'Iris-virginica']\n"
          ]
        }
      ],
      "source": [
        "print(\"The classes in this dataset: {}\".format(df.Species.unique()))\n",
        "#We have two only two class labels now"
      ]
    },
    {
      "cell_type": "code",
      "execution_count": null,
      "metadata": {
        "id": "rpEw30T06iCw"
      },
      "outputs": [],
      "source": [
        "#setting up ipywidget for visualtization\n",
        "wig_col = widgets.Dropdown(\n",
        "                options=[col for col in df.columns.tolist() if col.startswith(('sepal', 'petal'))],\n",
        "                description='Choose a Column to Plot vs. Attributes',\n",
        "                disabled=False,\n",
        "                layout=widgets.Layout(width='40%', height='40px'),\n",
        "                style=style)"
      ]
    },
    {
      "cell_type": "code",
      "execution_count": null,
      "metadata": {
        "colab": {
          "base_uri": "https://localhost:8080/",
          "height": 649,
          "referenced_widgets": [
            "15a882d1f86846399938acb17ade9074",
            "51c09572d8ba4509814a0fabaf9f9529",
            "124cc7a5348647adb6091e88bc3bd62a"
          ]
        },
        "id": "uqhUxtd97o7s",
        "outputId": "a6488686-f087-476d-d058-2e9707627ac9"
      },
      "outputs": [
        {
          "data": {
            "application/vnd.jupyter.widget-view+json": {
              "model_id": "15a882d1f86846399938acb17ade9074",
              "version_major": 2,
              "version_minor": 0
            },
            "text/plain": [
              "Dropdown(description='Choose a Column to Plot vs. Attributes', layout=Layout(height='40px', width='40%'), opti…"
            ]
          },
          "metadata": {},
          "output_type": "display_data"
        },
        {
          "data": {
            "image/png": "[encoded data removed]",
            "text/plain": [
              "<Figure size 842.4x595.44 with 1 Axes>"
            ]
          },
          "metadata": {
            "needs_background": "light"
          },
          "output_type": "display_data"
        }
      ],
      "source": [
        "display.display(wig_col)\n",
        "\n",
        "sns.catplot(x=\"Species\", y=wig_col.value, kind=\"boxen\", data=df, height=8.27, aspect=11.7/8.27); \n",
        "#You can change the attribute you visualize by choice!"
      ]
    },
    {
      "cell_type": "code",
      "execution_count": null,
      "metadata": {
        "colab": {
          "base_uri": "https://localhost:8080/",
          "height": 649,
          "referenced_widgets": [
            "15a882d1f86846399938acb17ade9074",
            "51c09572d8ba4509814a0fabaf9f9529",
            "124cc7a5348647adb6091e88bc3bd62a"
          ]
        },
        "id": "__iFoh4s9tCh",
        "outputId": "58084bf9-02f9-4c3b-989f-9675a9369fa8"
      },
      "outputs": [
        {
          "data": {
            "application/vnd.jupyter.widget-view+json": {
              "model_id": "15a882d1f86846399938acb17ade9074",
              "version_major": 2,
              "version_minor": 0
            },
            "text/plain": [
              "Dropdown(description='Choose a Column to Plot vs. Attributes', layout=Layout(height='40px', width='40%'), opti…"
            ]
          },
          "metadata": {},
          "output_type": "display_data"
        },
        {
          "data": {
            "image/png": "[encoded data removed]",
            "text/plain": [
              "<Figure size 842.4x595.44 with 1 Axes>"
            ]
          },
          "metadata": {
            "needs_background": "light"
          },
          "output_type": "display_data"
        }
      ],
      "source": [
        "g = sns.catplot(x=\"Species\", y=wig_col.value, kind=\"violin\", inner=None, data=df, height=8.27, aspect=11.7/8.27)\n",
        "sns.swarmplot(x=\"Species\", y=wig_col.value, color=\"k\", size=3, data=df, ax=g.ax);\n",
        "\n",
        "display.display(wig_col)"
      ]
    },
    {
      "cell_type": "code",
      "execution_count": null,
      "metadata": {
        "id": "YPlcE-FiCrvL"
      },
      "outputs": [],
      "source": [
        "from sklearn.utils import shuffle\n",
        "from sklearn.model_selection import train_test_split"
      ]
    },
    {
      "cell_type": "code",
      "execution_count": null,
      "metadata": {
        "id": "LhZEUKbzV3As"
      },
      "outputs": [],
      "source": [
        "#We assign 1 and -1 to the two class labels\n",
        "label_map = {'Iris-versicolor':1,'Iris-virginica':-1}\n",
        "y = target.map(label_map)\n",
        "x = df.drop(columns=['Species'])"
      ]
    },
    {
      "cell_type": "code",
      "execution_count": null,
      "metadata": {
        "id": "445H5xnoZWRc"
      },
      "outputs": [],
      "source": [
        "#As you can see in above df, the instances of the same class label are one after the other.\n",
        "#Training on this tend to add more bias.\n",
        "#The data needs to be shuffled.\n",
        "x,y = shuffle(x,y)"
      ]
    },
    {
      "cell_type": "code",
      "execution_count": null,
      "metadata": {
        "id": "XgXoRC3UZqb8"
      },
      "outputs": [],
      "source": [
        "x_train, x_test, y_train, y_test = train_test_split(x,y,train_size = 0.8)"
      ]
    },
    {
      "cell_type": "code",
      "execution_count": null,
      "metadata": {
        "id": "kwjDO4FJr7wQ"
      },
      "outputs": [],
      "source": [
        "x_train = np.array(x_train)\n",
        "y_train = np.array(y_train)\n",
        "x_test = np.array(x_test)\n",
        "y_test = np.array(y_test)\n",
        "\n",
        "y_train = y_train.reshape(80,1)\n",
        "y_test = y_test.reshape(20,1)"
      ]
    },
    {
      "cell_type": "code",
      "execution_count": null,
      "metadata": {
        "id": "Z-wnyTG_aFDj"
      },
      "outputs": [],
      "source": [
        "train_f1 = x_train[:,0]\n",
        "train_f2 = x_train[:,1]\n",
        "train_f3 = x_train[:,2]\n",
        "train_f4 = x_train[:,3]\n",
        "train_f1 = train_f1.reshape(80,1)\n",
        "train_f2 = train_f2.reshape(80,1)\n",
        "train_f3 = train_f3.reshape(80,1)\n",
        "train_f4 = train_f4.reshape(80,1)"
      ]
    },
    {
      "cell_type": "code",
      "execution_count": null,
      "metadata": {
        "id": "g48NkXzWcHPg"
      },
      "outputs": [],
      "source": [
        "w1 = np.zeros((80,1))\n",
        "w2 = np.zeros((80,1))\n",
        "w3 = np.zeros((80,1))\n",
        "w4 = np.zeros((80,1))\n"
      ]
    },
    {
      "cell_type": "code",
      "execution_count": null,
      "metadata": {
        "colab": {
          "base_uri": "https://localhost:8080/"
        },
        "id": "qoe74-VMrs6S",
        "outputId": "df5646f8-dda9-4dda-b262-3a96c4869053"
      },
      "outputs": [
        {
          "data": {
            "text/plain": [
              "array([7.])"
            ]
          },
          "execution_count": 17,
          "metadata": {},
          "output_type": "execute_result"
        }
      ],
      "source": [
        "train_f1[0]"
      ]
    },
    {
      "cell_type": "code",
      "execution_count": null,
      "metadata": {
        "colab": {
          "base_uri": "https://localhost:8080/"
        },
        "id": "xTHwBU3ggVcO",
        "outputId": "2061738a-f215-4297-9c32-5ba93f4bd01f"
      },
      "outputs": [
        {
          "name": "stdout",
          "output_type": "stream",
          "text": [
            "10000\n"
          ]
        }
      ],
      "source": [
        "epochs = 1\n",
        "alpha = 0.0001\n",
        "\n",
        "while(epochs<10000):\n",
        "  y = w1*train_f1 + w2*train_f2 + w3*train_f3 + w4*train_f4\n",
        "  prod = y*y_train \n",
        "  count = 0\n",
        "\n",
        "  for val in prod:\n",
        "    if (val>=1):\n",
        "      cost = 0\n",
        "      w1 = w1 - alpha*(2*1/epochs*w1)\n",
        "      w2 = w2 - alpha*(2*1/epochs*w2)\n",
        "      w3 = w3 - alpha*(2*1/epochs*w3)\n",
        "      w4 = w4 - alpha*(2*1/epochs*w4)\n",
        "    else:\n",
        "      cost = 1 - val \n",
        "      w1 = w1 + alpha * (train_f1[count] * y_train[count] - 2 * 1/epochs * w1)\n",
        "      w2 = w2 + alpha * (train_f2[count] * y_train[count] - 2 * 1/epochs * w2)\n",
        "      w3 = w3 + alpha * (train_f3[count] * y_train[count] - 2 * 1/epochs * w3)\n",
        "      w4 = w4 + alpha * (train_f4[count] * y_train[count] - 2 * 1/epochs * w4)\n",
        "    count += 1\n",
        "  epochs += 1\n",
        "\n",
        "print(epochs)"
      ]
    },
    {
      "cell_type": "code",
      "execution_count": null,
      "metadata": {
        "colab": {
          "base_uri": "https://localhost:8080/"
        },
        "id": "9Q_rzgTqs6vU",
        "outputId": "9c8e239e-a444-4f23-bc4e-279513877c04"
      },
      "outputs": [
        {
          "name": "stdout",
          "output_type": "stream",
          "text": [
            "0.95\n"
          ]
        }
      ],
      "source": [
        "\n",
        "from sklearn.metrics import accuracy_score\n",
        "\n",
        "## Clip the weights \n",
        "index = list(range(20,80))\n",
        "w1 = np.delete(w1,index)\n",
        "w2 = np.delete(w2,index)\n",
        "w3 = np.delete(w3,index)\n",
        "w4 = np.delete(w4,index)\n",
        "\n",
        "w1 = w1.reshape(20,1)\n",
        "w2 = w2.reshape(20,1)\n",
        "w3 = w3.reshape(20,1)\n",
        "w4 = w4.reshape(20,1)\n",
        "## Extract the test data features \n",
        "test_f1 = x_test[:,0]\n",
        "test_f2 = x_test[:,1]\n",
        "test_f3 = x_test[:,2]\n",
        "test_f4 = x_test[:,3]\n",
        "\n",
        "test_f1 = test_f1.reshape(20,1)\n",
        "test_f2 = test_f2.reshape(20,1)\n",
        "test_f3 = test_f3.reshape(20,1)\n",
        "test_f4 = test_f4.reshape(20,1)\n",
        "## Predict\n",
        "y_pred = w1 * test_f1 + w2 * test_f2 + w3 * test_f3 + w4 * test_f4\n",
        "predictions = []\n",
        "for val in y_pred:\n",
        "    if(val > 1):\n",
        "        predictions.append(1)\n",
        "    else:\n",
        "        predictions.append(-1)\n",
        "\n",
        "print(accuracy_score(y_test,predictions))\n"
      ]
    },
    {
      "cell_type": "markdown",
      "metadata": {},
      "source": [
        "### Detalied EDA"
      ]
    },
    {
      "cell_type": "code",
      "execution_count": null,
      "metadata": {},
      "outputs": [],
      "source": []
    }
  ],
  "metadata": {
    "colab": {
      "authorship_tag": "ABX9TyPJP9nQqSOGTIqR+5vyIuth",
      "name": "SVM_Classification.ipynb",
      "provenance": []
    },
    "kernelspec": {
      "display_name": "Python 3",
      "name": "python3"
    },
    "language_info": {
      "name": "python"
    },
    "widgets": {
      "application/vnd.jupyter.widget-state+json": {
        "124cc7a5348647adb6091e88bc3bd62a": {
          "model_module": "@jupyter-widgets/base",
          "model_module_version": "1.2.0",
          "model_name": "LayoutModel",
          "state": {
            "_model_module": "@jupyter-widgets/base",
            "_model_module_version": "1.2.0",
            "_model_name": "LayoutModel",
            "_view_count": null,
            "_view_module": "@jupyter-widgets/base",
            "_view_module_version": "1.2.0",
            "_view_name": "LayoutView",
            "align_content": null,
            "align_items": null,
            "align_self": null,
            "border": null,
            "bottom": null,
            "display": null,
            "flex": null,
            "flex_flow": null,
            "grid_area": null,
            "grid_auto_columns": null,
            "grid_auto_flow": null,
            "grid_auto_rows": null,
            "grid_column": null,
            "grid_gap": null,
            "grid_row": null,
            "grid_template_areas": null,
            "grid_template_columns": null,
            "grid_template_rows": null,
            "height": "40px",
            "justify_content": null,
            "justify_items": null,
            "left": null,
            "margin": null,
            "max_height": null,
            "max_width": null,
            "min_height": null,
            "min_width": null,
            "object_fit": null,
            "object_position": null,
            "order": null,
            "overflow": null,
            "overflow_x": null,
            "overflow_y": null,
            "padding": null,
            "right": null,
            "top": null,
            "visibility": null,
            "width": "40%"
          }
        },
        "15a882d1f86846399938acb17ade9074": {
          "model_module": "@jupyter-widgets/controls",
          "model_module_version": "1.5.0",
          "model_name": "DropdownModel",
          "state": {
            "_dom_classes": [],
            "_model_module": "@jupyter-widgets/controls",
            "_model_module_version": "1.5.0",
            "_model_name": "DropdownModel",
            "_options_labels": [
              "sepal length",
              "sepal width",
              "petal length",
              "petal width"
            ],
            "_view_count": null,
            "_view_module": "@jupyter-widgets/controls",
            "_view_module_version": "1.5.0",
            "_view_name": "DropdownView",
            "description": "Choose a Column to Plot vs. Attributes",
            "description_tooltip": null,
            "disabled": false,
            "index": 0,
            "layout": "IPY_MODEL_124cc7a5348647adb6091e88bc3bd62a",
            "style": "IPY_MODEL_51c09572d8ba4509814a0fabaf9f9529"
          }
        },
        "51c09572d8ba4509814a0fabaf9f9529": {
          "model_module": "@jupyter-widgets/controls",
          "model_module_version": "1.5.0",
          "model_name": "DescriptionStyleModel",
          "state": {
            "_model_module": "@jupyter-widgets/controls",
            "_model_module_version": "1.5.0",
            "_model_name": "DescriptionStyleModel",
            "_view_count": null,
            "_view_module": "@jupyter-widgets/base",
            "_view_module_version": "1.2.0",
            "_view_name": "StyleView",
            "description_width": "initial"
          }
        }
      }
    }
  },
  "nbformat": 4,
  "nbformat_minor": 0
}
